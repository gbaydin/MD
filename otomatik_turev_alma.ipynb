{
 "cells": [
  {
   "cell_type": "markdown",
   "metadata": {},
   "source": [
    "# Makine ogrenmesi ve otomatik turev alma\n",
    "\n",
    "Atılım Güneş Baydin \\\n",
    "http://www.robots.ox.ac.uk/~gunes/ \\\n",
    "gunes@robots.ox.ac.uk\n",
    "\n",
    "30 Agustos 2020"
   ]
  },
  {
   "cell_type": "markdown",
   "metadata": {},
   "source": [
    "# Fonksiyonları bilgisayarda nasıl hesaplarız?"
   ]
  },
  {
   "cell_type": "markdown",
   "metadata": {},
   "source": [
    "Fonksiyon matematikte degisken sayilari girdi olarak kabul edip bunlardan cikti elde etmemizi saglayan bir kuraldir. Fonksiyonlari, \"fonksiyon adi ve parantez icinde fonksiyonun girdileri esittir fonksiyonun ciktisi\" biciminde yazariz. \n",
    "\n",
    "Ornegin $f(x) = 3x+5$ fonksiyonu, kendisine verilen her $x$ degerini uc ile carpip bes ekleyip bize cikti olarak geri verir. Fonksiyonu tanimladiktan sonra, bu fonksiyonun degisik noktalardaki (girdilerdeki) degerlerini hesaplayabiliriz. Ornegin $x=2$ ise, $f(x)$ fonksiyonunun degeri $f(2)=(3\\times2)+5=11$ olur.\n",
    "\n",
    "Fonksiyonlar genelde degisik girdi degerleriyle defalarca kullanmak isteyecegimiz, belli bir ise yarayan araclardir. Ornegin kendisine bir yari cap uzunlugu verdigimizde bize o yari capa sahip olan dairenin alanini veren bir fonksiyonu $\\textrm{Alan}(r) = \\pi r^2$ (alan esittir pi carpi yaricapin karesi) biciminde yazabiliriz. Bu fonksiyonu kullanarak herhangi bir dairenin alanini bulabiliriz."
   ]
  },
  {
   "cell_type": "markdown",
   "metadata": {},
   "source": [
    "# Fonksiyon ve algoritma"
   ]
  },
  {
   "cell_type": "markdown",
   "metadata": {},
   "source": [
    "Bilgisayar programlamasinda da fonksiyonlar vardir. Bunlar belirli bir gorevi yerine getiren alt programlardir. Fonksiyonlar bir kere programlandiklarinda diger fonksiyonlarla birlikte daha buyuk ve karmasik bilgisayar programlarinin yazilmasinda kullanilirlar. Bu sayede bir bilgisayar programi yazarken her seyi bastan icat etmeye gerek kalmaz. Ornegin biraz once bahsettigimiz $\\textrm{Alan}(r)$ fonksiyonunu Python programlama dilinde yazalim."
   ]
  },
  {
   "cell_type": "code",
   "execution_count": 3,
   "metadata": {},
   "outputs": [],
   "source": [
    "def alan(r):\n",
    "    pi = 3.1415\n",
    "    return pi * r * r"
   ]
  },
  {
   "cell_type": "markdown",
   "metadata": {},
   "source": [
    "Burada _alan_ fonksiyonunu tanimladik. Bu fonksiyonu degisik degerlerle cagirip kullanabiliriz.\n"
   ]
  },
  {
   "cell_type": "code",
   "execution_count": 6,
   "metadata": {},
   "outputs": [
    {
     "name": "stdout",
     "output_type": "stream",
     "text": [
      "3.1415\n",
      "12.566\n",
      "28.2735\n"
     ]
    }
   ],
   "source": [
    "print(alan(1.))\n",
    "print(alan(2.))\n",
    "print(alan(3.))"
   ]
  },
  {
   "cell_type": "markdown",
   "metadata": {},
   "source": [
    "Peki algoritma nedir? Fonksiyon ve algoritma cok benzer seyler. Kisaca algoritmalar, matematiksel fonksiyonlara benzeyen, ama cebirsel ifadelerle yazilabilecek kurallardan (toplama, carpma, bolme gibi) daha karmasik kurallari yazabilmemize izin veren yapilardir. Algoritmalar da fonksiyonlar gibi bir girdiyi alip, bazi islemlerden gecirip, bize bir cikti verirler. Bunu yaparken bir algoritma de\n",
    "\n",
    "Ozetle, algoritmalar bilgisayar programlamanin temelidir, ya da bilgisayar programlari algoritmadir diyebiliriz."
   ]
  },
  {
   "cell_type": "markdown",
   "metadata": {},
   "source": [
    "# Otomatik türev alma"
   ]
  },
  {
   "cell_type": "code",
   "execution_count": null,
   "metadata": {},
   "outputs": [],
   "source": []
  },
  {
   "cell_type": "markdown",
   "metadata": {},
   "source": [
    "# Makine öğrenmesinde türevin kullanımı"
   ]
  },
  {
   "cell_type": "code",
   "execution_count": null,
   "metadata": {},
   "outputs": [],
   "source": []
  },
  {
   "cell_type": "markdown",
   "metadata": {},
   "source": [
    "# Makine öğrenmesi paketleri"
   ]
  },
  {
   "cell_type": "code",
   "execution_count": null,
   "metadata": {},
   "outputs": [],
   "source": []
  },
  {
   "cell_type": "markdown",
   "metadata": {},
   "source": [
    "# Daha fazla bilgi icin"
   ]
  },
  {
   "cell_type": "code",
   "execution_count": null,
   "metadata": {},
   "outputs": [],
   "source": []
  }
 ],
 "metadata": {
  "kernelspec": {
   "display_name": "Python 3",
   "language": "python",
   "name": "python3"
  },
  "language_info": {
   "codemirror_mode": {
    "name": "ipython",
    "version": 3
   },
   "file_extension": ".py",
   "mimetype": "text/x-python",
   "name": "python",
   "nbconvert_exporter": "python",
   "pygments_lexer": "ipython3",
   "version": "3.7.6"
  }
 },
 "nbformat": 4,
 "nbformat_minor": 4
}
