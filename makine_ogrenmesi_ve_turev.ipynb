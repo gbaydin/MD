{
 "cells": [
  {
   "cell_type": "markdown",
   "metadata": {},
   "source": [
    "# Makine ogrenmesi ve otomatik turev alma\n",
    "\n",
    "Atılım Güneş Baydin \\\n",
    "http://www.robots.ox.ac.uk/~gunes/ \\\n",
    "gunes@robots.ox.ac.uk\n",
    "\n",
    "30 Agustos 2020"
   ]
  },
  {
   "cell_type": "markdown",
   "metadata": {},
   "source": [
    "# Fonksiyonları bilgisayarda nasıl hesaplarız?"
   ]
  },
  {
   "cell_type": "markdown",
   "metadata": {},
   "source": [
    "Fonksiyon matematikte degisken sayilari girdi olarak kabul edip bunlardan cikti elde etmemizi saglayan bir kuraldir. Fonksiyonlari, \"fonksiyon adi ve parantez icinde fonksiyonun girdileri esittir fonksiyonun ciktisi\" biciminde yazariz. \n",
    "\n",
    "Ornegin $f(x) = 3x+5$ fonksiyonu, kendisine verilen her $x$ degerini uc ile carpip bes ekleyip bize cikti olarak geri verir. Fonksiyonu tanimladiktan sonra, bu fonksiyonun degisik noktalardaki (girdilerdeki) degerlerini hesaplayabiliriz. Ornegin $x=2$ ise, $f(x)$ fonksiyonunun degeri $f(2)=(3\\times2)+5=11$ olur.\n",
    "\n",
    "Fonksiyonlar genelde degisik girdi degerleriyle defalarca kullanmak isteyecegimiz, belli bir ise yarayan araclardir. Ornegin kendisine bir yari cap uzunlugu verdigimizde bize o yari capa sahip olan dairenin alanini veren bir fonksiyonu $\\textrm{Alan}(r) = \\pi r^2$ (alan esittir pi carpi yaricapin karesi) biciminde yazabiliriz. Bu fonksiyonu kullanarak herhangi bir dairenin alanini bulabiliriz."
   ]
  },
  {
   "cell_type": "markdown",
   "metadata": {},
   "source": [
    "# Fonksiyon ve algoritma"
   ]
  },
  {
   "cell_type": "markdown",
   "metadata": {},
   "source": [
    "Bilgisayar programlamasinda da fonksiyonlar vardir. Bunlar belirli bir gorevi yerine getiren alt programlardir. Fonksiyonlar bir kere programlandiklarinda diger fonksiyonlarla birlikte daha buyuk ve karmasik bilgisayar programlarinin yazilmasinda kullanilirlar. Bu sayede bir bilgisayar programi yazarken her seyi bastan icat etmeye gerek kalmaz. Ornegin biraz once bahsettigimiz $\\textrm{Alan}(r)$ fonksiyonunu Python programlama dilinde yazalim."
   ]
  },
  {
   "cell_type": "code",
   "execution_count": 3,
   "metadata": {},
   "outputs": [],
   "source": [
    "def alan(r):\n",
    "    pi = 3.1415\n",
    "    return pi * r * r"
   ]
  },
  {
   "cell_type": "markdown",
   "metadata": {},
   "source": [
    "Burada _alan_ fonksiyonunu tanimladik. Bu fonksiyonu degisik degerlerle cagirip kullanabiliriz.\n"
   ]
  },
  {
   "cell_type": "code",
   "execution_count": 6,
   "metadata": {},
   "outputs": [
    {
     "name": "stdout",
     "output_type": "stream",
     "text": [
      "3.1415\n",
      "12.566\n",
      "28.2735\n"
     ]
    }
   ],
   "source": [
    "print(alan(1.))\n",
    "print(alan(2.))\n",
    "print(alan(3.))"
   ]
  },
  {
   "cell_type": "markdown",
   "metadata": {},
   "source": [
    "Peki algoritma nedir? Fonksiyon ve algoritma cok benzer seyler. Kisaca algoritmalar, matematiksel fonksiyonlara benzeyen, ama aritmetik ifadelerle yazilabilecek kurallardan (toplama, carpma, bolme gibi) daha karmasik kurallari yazabilmemize izin veren yapilardir. Ornegin bir algoritma icinde, bir degiskenin o anki degerine bagli olarak bir karar alip degisik yollar izleyebiliriz veya bazi islemleri defalarca yineleyebiliriz."
   ]
  },
  {
   "cell_type": "code",
   "execution_count": 2,
   "metadata": {},
   "outputs": [],
   "source": [
    "def f(x):\n",
    "    if x < 0:\n",
    "        return x - 5\n",
    "    else:\n",
    "        return x + 2"
   ]
  },
  {
   "cell_type": "markdown",
   "metadata": {},
   "source": [
    "Bu $f(x)$ fonksiyonu, kendisine verilen girdi $x$'in degerine bagli olarak, eger sifirdan kucukse sayidan bes cikarip, sifirdan buyukse sayiya iki ekleyip bize geri veriyor."
   ]
  },
  {
   "cell_type": "code",
   "execution_count": 4,
   "metadata": {},
   "outputs": [
    {
     "name": "stdout",
     "output_type": "stream",
     "text": [
      "-6\n",
      "5\n"
     ]
    }
   ],
   "source": [
    "print(f(-1))\n",
    "print(f(3))"
   ]
  },
  {
   "cell_type": "markdown",
   "metadata": {},
   "source": [
    "Ozetle, algoritmalar da fonksiyonlar gibi bir girdiyi alip, bazi islemlerden gecirip, bize bir cikti verirler. Algoritmalar bilgisayar programlamanin temelidir, ya da bilgisayar programlari (uygulamalari) algoritmadir diyebiliriz."
   ]
  },
  {
   "cell_type": "markdown",
   "metadata": {},
   "source": [
    "# Algoritmalarin türevi"
   ]
  },
  {
   "cell_type": "markdown",
   "metadata": {},
   "source": [
    "Matematikte fonksiyonlarla yapabilecegimiz islemlerden biri, fonksiyonun turevini almaktir. Turev, bir fonksiyonun belli bir noktadaki artis ya da azalis egilimini gosterir. Tek boyutlu fonksiyonlarda bunu genelde fonksiyon grafigine cizilen bir tegetin egimi olarak dusunuyoruz. Ornegin $f(x)=x^2$ fonksiyonunun turevi $f'(x)=2x$ olarak bulunur. Turev bize bir fonksiyonun degerindeki degisimi verdiginden, bir fonksiyonun turevini kullanarak o fonksiyonun en yuksek ve en dusuk deger aldigi noktalari bulabiliriz (fonksiyonun en yuksek ve en dusuk noktalarinda turevi sifirdir, yani daha fazla artmasi veya azalmasi olanaksizdir).\n",
    "\n",
    "Matematikte bize verilen bir fonksiyonun turevini bulmak icin bazi kurallari ezberleyip uygulamamiz gerekir. Yaklasin on-onbes tane temel kurali ogrenip uygulayarak turevleri kagit ve kalem ile bulabiliriz. Bilgisayar programi olarak kodlanan fonksiyon ve algoritmalarin turevini hesaplamak icin ise cesitli otomatik yollar vardir.\n",
    "\n",
    "- Sembolik turev alma\n",
    "- Numerik turev alma\n",
    "- Otomatik turev alma"
   ]
  },
  {
   "cell_type": "markdown",
   "metadata": {},
   "source": [
    "### Sembolik turev alma\n",
    "Sembolik turev alma, kagit kalemle yaptigimiz turev almanin bilgisayar programlari tarafindan otomatik olarak yapilmasidir. Ornegin $f(x)=3x^2 + 2$ fonksiyonunu programlayalim:"
   ]
  },
  {
   "cell_type": "code",
   "execution_count": 14,
   "metadata": {},
   "outputs": [],
   "source": [
    "def f(x):\n",
    "    return 3*x*x+2"
   ]
  },
  {
   "cell_type": "markdown",
   "metadata": {},
   "source": [
    "Otomatik turev alma sistemi bize bu fonksiyonun turevi olan baska bir fonksiyonu, $f'(x)=6x$, otomatik olarak verir:"
   ]
  },
  {
   "cell_type": "code",
   "execution_count": 15,
   "metadata": {},
   "outputs": [],
   "source": [
    "def f_turev(x):\n",
    "    return 6*x"
   ]
  },
  {
   "cell_type": "markdown",
   "metadata": {},
   "source": [
    "Sembolik turev almayi saglayan cesitli programlar vardir. Bunlardan biri Mathematica sistemidir ve bu sistemi https://www.wolframalpha.com/ web sitesinde deneyip kullanabilirsiniz."
   ]
  },
  {
   "cell_type": "markdown",
   "metadata": {},
   "source": [
    "### Numerik turev alma\n",
    "\n",
    "Yapilmasi basit turev alma yontemlerinden biri, turevin tanimini kullanarak turevi numerik olarak tahmin etmektir. Bu yontemde tureve denk gelen fonksiyonu bulmamiza olanak yoktur, ancak turev fonksiyonunun sayisal degerini yaklasik olarak bulabiliriz. Bazi basit uygulamalarda bu cok basit ve ise yarar bir yontemdir."
   ]
  },
  {
   "cell_type": "code",
   "execution_count": 23,
   "metadata": {},
   "outputs": [
    {
     "name": "stdout",
     "output_type": "stream",
     "text": [
      "20.75\n",
      "15.0\n",
      "15.029999999999788\n"
     ]
    }
   ],
   "source": [
    "def turev(f, x):\n",
    "    h = 0.01\n",
    "    return (f(x+h) - f(x))/h\n",
    "\n",
    "def f_turev_yaklasik(x):\n",
    "    return turev(f, x)\n",
    "\n",
    "x = 2.5\n",
    "print(f(x))\n",
    "print(f_turev(x))\n",
    "print(f_turev_yaklasik(x))"
   ]
  },
  {
   "cell_type": "markdown",
   "metadata": {},
   "source": [
    "### Otomatik turev alma\n",
    "Son olarak, cogu acidan diger iki yontemden iyi olan yontem otomatik turev alma (automatic differentiation, algorithmic differentiation veya autodiff) yontemidir. Bu turev alma sistemi gunumuzdeki makine ogrenmesi ve yapay zeka sistemlerinin temelindeki teknolojidir. Otomatik turev alma temelde sembolik turev alma yonteminin algoritmalara genellenmesidir, ancak bize sembolik turev fonksiyonlari vermez, yalnizca turevin sayisal sonucunu verir. Bu acidan numerik turev almaya benzer ama otomatik turev almanin bize verdigi turev degeri tam dogru turev degeridir (yaklasik bir tahmin degildir). Bu acidan otomatik turev alma sembolik ve numerik turev almanin en iyi yonlerini birlestiren bir yontemdir diyebiliriz.\n",
    "\n",
    "Buyuk olcekte kullanilan PyTorch (https://pytorch.org/), TensorFlow (https://www.tensorflow.org/) gibi araclar, otomatik turev alma tekniklerini kullanarak insa edilmislerdir ve herhangi bir turevi alinabilen algoritmanin (yapay sinir sistemleri gibi) belirli isleri yapacak bicimde egitilmesinde (optimize edilmesinde) kullanilabilirler. Bu sistemlerde sayisal degiskenleri ifade ederken bize sistemin sagladigi bir veri turunu (Tensor) kullanmamiz gerekir. Bu tensor degiskenlerini kullandigimiz surece, tensorler ile hesaplanan butun degerlerin turevini sistem bize otomatik olarak verebilir. \n",
    "\n",
    "Burada bunun nasil calistigini anlatmak icin yeterince zamanimiz yok, ancak, temel olarak her tensor islemi yapildiginda sistem bu isleme denk gelen turev islemini de gizlice (arka planda) yaparak bizim icin turev degerlerinin kaydini tutar. Hatirlarsaniz turev almak icin yaklasik on onbes tane kurali bilmek yeterliydi. Sistem bu kurallari bilip, her yaptigimiz islem icin gecerli olan kurali uygulayarak turevleri alir ve bunlari hafizada tutar. Bu yontemin nasil calistigini Ingilizce olarak bu kaynaktan ogrenebilirsiniz: https://jmlr.org/papers/v18/17-468.html\n",
    "\n",
    "PyTorch kullanarak daha once bahsettigimiz $f(x)=3x^2+2$ fonksiyonunun turevini $x=2.5$ degeri icin hesaplayalim."
   ]
  },
  {
   "cell_type": "code",
   "execution_count": 2,
   "metadata": {},
   "outputs": [
    {
     "name": "stdout",
     "output_type": "stream",
     "text": [
      "tensor(2.5000, requires_grad=True)\n",
      "tensor(20.7500, grad_fn=<AddBackward0>)\n",
      "tensor(15.)\n"
     ]
    }
   ],
   "source": [
    "import torch\n",
    "\n",
    "x = torch.tensor(2.5, requires_grad=True)\n",
    "fx = 3*x*x + 2\n",
    "fx.backward()\n",
    "fx_turev = x.grad\n",
    "\n",
    "print(x)\n",
    "print(fx)\n",
    "print(fx_turev)"
   ]
  },
  {
   "cell_type": "markdown",
   "metadata": {},
   "source": [
    "# Makine öğrenmesi ve türev"
   ]
  },
  {
   "cell_type": "markdown",
   "metadata": {},
   "source": [
    "Bu bolumde PyTorch ve otomatik turev alma kullanarak bazi temel makine ogrenmesi kavramlarini ele alacagiz."
   ]
  },
  {
   "cell_type": "markdown",
   "metadata": {},
   "source": [
    "### Tensorler"
   ]
  },
  {
   "cell_type": "markdown",
   "metadata": {},
   "source": [
    "PyTorch paketini kullanarak basliyoruz."
   ]
  },
  {
   "cell_type": "code",
   "execution_count": 3,
   "metadata": {},
   "outputs": [],
   "source": [
    "import torch\n",
    "from torch import Tensor"
   ]
  },
  {
   "cell_type": "markdown",
   "metadata": {},
   "source": [
    "Tensorler, ya da cok boyutlu sayilar, PyTorch'takitemel islem birimidir. Simdi 5x3 boyunda bir matrisi 2-boyutlu bir Tensor olarak yaratalim. Bunu yaptigimizda varsayilan Tensor turu olarak bir FloatTensor, yani tek duyarli (32-bit) kayan noktali sayi (floating point number) tensoru yaratiliyor. Bu Tensor, icinde rastgele sayilarla yaratilacak."
   ]
  },
  {
   "cell_type": "code",
   "execution_count": 4,
   "metadata": {},
   "outputs": [
    {
     "name": "stdout",
     "output_type": "stream",
     "text": [
      "tensor([[[-1.8882e+21,  3.0822e-41,  1.4013e-45],\n",
      "         [ 0.0000e+00,  0.0000e+00,  0.0000e+00],\n",
      "         [ 0.0000e+00,  0.0000e+00,  0.0000e+00],\n",
      "         [ 0.0000e+00,  0.0000e+00,  0.0000e+00],\n",
      "         [-1.8882e+21,  3.0822e-41, -1.8882e+21]],\n",
      "\n",
      "        [[ 3.0822e-41, -1.8882e+21,  3.0822e-41],\n",
      "         [ 1.4013e-45,  0.0000e+00,  0.0000e+00],\n",
      "         [ 0.0000e+00,  0.0000e+00,  0.0000e+00],\n",
      "         [ 0.0000e+00,  0.0000e+00,  0.0000e+00],\n",
      "         [ 0.0000e+00,  0.0000e+00,  0.0000e+00]],\n",
      "\n",
      "        [[ 1.4013e-45,  0.0000e+00,  4.0921e-13],\n",
      "         [ 4.5601e-41,  1.4013e-45,  9.1834e-41],\n",
      "         [ 1.4013e-45,  0.0000e+00,  1.4013e-45],\n",
      "         [ 2.3511e-38,  3.5873e-43,  0.0000e+00],\n",
      "         [ 1.3452e-43,  0.0000e+00, -1.8874e+21]]])\n"
     ]
    }
   ],
   "source": [
    "x = Tensor(3,5,3)\n",
    "print(x)"
   ]
  },
  {
   "cell_type": "markdown",
   "metadata": {},
   "source": [
    "### Kesitler\n",
    "\n",
    "Elimizdeki verilerin degisik ozelliklerini kapsayacak bicimde cok boyutlu tensorlar kullanilmasi yaygindir. Ornegin, 3x200x200 bicimli uc boyutlu bir tensor kullanarak, bir tane renki resimin uc renk kanalini (kirmizi, yesil, mavi) bir arada tutabiliriz; ya da 100x3x200x200 bicimli dort boyutlu bir tensor kullanarak, 100 adet bu bicimde resimi bir arada tutabiliriz.\n",
    "\n",
    "Elimizdeki cok boyulu bir tensorden degisik alt verileri elde etmek icin bu tensorun kesitlerini alabiliriz. PyTorch'ta tensorler satir temelli (row-major) olarak hafizada tutulur."
   ]
  },
  {
   "cell_type": "code",
   "execution_count": 5,
   "metadata": {},
   "outputs": [
    {
     "name": "stdout",
     "output_type": "stream",
     "text": [
      "torch.Size([100, 3, 200, 200])\n",
      "torch.Size([200, 200])\n"
     ]
    }
   ],
   "source": [
    "# 3 kanalli (kirmizi, yesil, mavi), 200x200 buyuklugunde 100 tane resim\n",
    "x = Tensor(100, 3, 200, 200)\n",
    "print(x.size())\n",
    "\n",
    "# Birinci resimin ikinci kanali (yesil)\n",
    "y = x[0, 1]\n",
    "print(y.size())"
   ]
  },
  {
   "cell_type": "markdown",
   "metadata": {},
   "source": [
    "### Numpy ve PyTorch donusumu"
   ]
  },
  {
   "cell_type": "markdown",
   "metadata": {},
   "source": [
    "Numpy sistemini kullanmayi biliyorsaniz, PyTorch tensorlerinin Numpy dizileriyle benzer oldugunu farketmis olabilirsiniz. Bu dogru; Numpy dizisi ve PyTorch tensorleri cok benzerdir ve birini digerine donusturmek cok kolaydir."
   ]
  },
  {
   "cell_type": "code",
   "execution_count": 6,
   "metadata": {},
   "outputs": [
    {
     "name": "stdout",
     "output_type": "stream",
     "text": [
      "(100, 3, 200, 200)\n",
      "torch.Size([100, 3, 200, 200])\n"
     ]
    }
   ],
   "source": [
    "x_np = x.numpy()\n",
    "print(x_np.shape)\n",
    "\n",
    "x = torch.from_numpy(x_np)\n",
    "print(x.size())"
   ]
  },
  {
   "cell_type": "markdown",
   "metadata": {},
   "source": [
    "### GPU kullanimi hakkinda bir not\n",
    "\n",
    "PyTorch genelde CUDA araciligiyla GPU donaniminda calistirilir. CUDA ve normal tensorler arasinda donusum ve veri transferi kolaydir.\n",
    "\n",
    "x.cuda()\n",
    "\n",
    "x.cpu()"
   ]
  },
  {
   "cell_type": "markdown",
   "metadata": {},
   "source": [
    "### PyTorch ve otomatik turev alma\n",
    "\n",
    "PyTorch ters yontem otomatik turev alma kapasitesine sahiptir. Bu tur turev alma, makine ogrenmesinde en yaygin olan bicimdir. Birden fazla girdisi olan (vektor girdili) bir fonksiyonun turevini alalim."
   ]
  },
  {
   "cell_type": "code",
   "execution_count": 7,
   "metadata": {},
   "outputs": [],
   "source": [
    "def f(x):\n",
    "    y = torch.log(x[0]) + torch.sin(x[1])\n",
    "    return x[2] * torch.exp(y)"
   ]
  },
  {
   "cell_type": "markdown",
   "metadata": {},
   "source": [
    "Bu $f(x)$ fonksiyonunun degerini $x=(2,3,4)$ noktasinda hesaplayalim."
   ]
  },
  {
   "cell_type": "code",
   "execution_count": 8,
   "metadata": {},
   "outputs": [
    {
     "name": "stdout",
     "output_type": "stream",
     "text": [
      "tensor(9.2125, grad_fn=<MulBackward0>)\n",
      "tensor([ 4.6063, -9.1203,  2.3031])\n"
     ]
    }
   ],
   "source": [
    "x = torch.tensor([2.,3.,4.], requires_grad=True)\n",
    "y = f(x)\n",
    "print(y)\n",
    "\n",
    "y.backward()\n",
    "print(x.grad)"
   ]
  },
  {
   "cell_type": "markdown",
   "metadata": {},
   "source": [
    "Gordugunuz gibi $f(2,3,4)=9.2125$ ve fonksiyonun turevi (gradyan) $\\nabla f(x)=(4.6063,-9.1203,2.3031)$ degerlerini bulduk. PyTorch sisteminde, kendisine gore turev almak istedigimiz tensorleri _requires_grad_ ozelligiyle belirlememiz gerekmektedir."
   ]
  },
  {
   "cell_type": "markdown",
   "metadata": {},
   "source": [
    "### Yapay sinir aglari\n",
    "Su ana kadar gordugumuz konular, bir yapay sinir agi kurmak ve egitmek icin gerekli her seyi sagliyor.\n",
    "\n",
    "#### Sinir agini tanimlamak\n",
    "\n",
    "Vurgulanmasi gereken bir nokta sudur: yapay sinir aglari, turevi alinabilen fonksiyonlardir.\n",
    "\n",
    "Yapay sinir aglari, birbirine eklenmis bir dizi dogrusal cebir islemi ve dogrusal olmayan aktivasyon fonksiyonlarindan olusur. Simdi iki noronlu (islem uniteli), dort girdiye sahip bir sinir agi katmani yaratalim. Bu katman, dort girdiyi iki ciktiya (iki noronun degeri) cevirecek."
   ]
  },
  {
   "cell_type": "code",
   "execution_count": 9,
   "metadata": {},
   "outputs": [
    {
     "name": "stdout",
     "output_type": "stream",
     "text": [
      "tensor([[ 0.9976],\n",
      "        [-0.9612]], grad_fn=<TanhBackward>)\n"
     ]
    }
   ],
   "source": [
    "def sinir_agi(carpanlar, girdiler):\n",
    "    ciktilar = torch.mm(carpanlar, girdiler)\n",
    "    ciktilar = torch.tanh(ciktilar)\n",
    "    return ciktilar\n",
    "\n",
    "W = torch.randn(2, 4, requires_grad=True) # 2x4 biciminde carpanlar matrisi\n",
    "x = torch.tensor([[1],[2],[3],[4.]]) # Dort elemanli vektor girdi\n",
    "\n",
    "y = sinir_agi(W, x)\n",
    "print(y)"
   ]
  },
  {
   "cell_type": "markdown",
   "metadata": {},
   "source": [
    "#### Objektif fonksiyonu\n",
    "\n"
   ]
  },
  {
   "cell_type": "markdown",
   "metadata": {},
   "source": [
    "Yapay sinir aglarini egitmek icin once bir objektif fonksiyonu tanimlariz. Bu fonksiyon, bir yapay sinir aginin (ya da herhangi bir makine ogrenmesi modelining) belirli bir isi ne kadar iyi yaptigini olcen, ogretmen gorevi goren bir fonksiyondur. Geleneksel olarak bu fonksiyonlari dusuk degerlerin iyi, yuksek degerlerin kotu anlama gelecegi bicimde tasarlariz. Bu sayede, bu objektif fonksiyonunun dusuk oldugu yerleri bulmak, bir yapay sinir agina bir isi nasil basaracagini ogretmekle esdegerdir.\n",
    "\n",
    "Objektif fonksiyonunun degerinin dusuk oldugu yerleri bulmak icin bu fonksiyonun turevinden yararlaniriz. Objektif fonksiyonu, yapay sinir aginin parametrelerinin her degerine bir basari degeri verdiginden, bu fonksiyonun parametrelere gore turevini alirsak ve parametreleri bu turevin azalis gosterdigi yone dogru ufak ufak degistirirsek objektif fonksiyonunu azaltmis (yani yapay sinir sistemini egitmis) oluruz.\n",
    "\n",
    "Yukaridaki ornegi basit bir objektif fonksiyonu kullanarak gelistirelim."
   ]
  },
  {
   "cell_type": "code",
   "execution_count": 12,
   "metadata": {},
   "outputs": [
    {
     "name": "stdout",
     "output_type": "stream",
     "text": [
      "tensor(3.7282, grad_fn=<NormBackward0>)\n",
      "tensor([[-0.4471, -0.8942, -1.3413, -1.7885],\n",
      "        [-0.0000, -0.0000, -0.0000, -0.0000]])\n"
     ]
    }
   ],
   "source": [
    "def objektif(su_anki_ciktilar, hedeflenen_ciktilar):\n",
    "    return torch.norm(su_anki_ciktilar - hedeflenen_ciktilar)\n",
    "\n",
    "W = torch.randn(2, 4, requires_grad=True) # 2x4 biciminde carpanlar matrisi\n",
    "x = torch.tensor([[1],[2],[3],[4.]]) # Dort elemanli vektor girdi\n",
    "\n",
    "objektif = objektif(sinir_agi(W, x), torch.tensor([1,1]))\n",
    "print(objektif)\n",
    "\n",
    "objektif.backward()\n",
    "\n",
    "W_turev = W.grad\n",
    "print(W_turev)"
   ]
  },
  {
   "cell_type": "markdown",
   "metadata": {},
   "source": [
    "#### Optimizasyon\n",
    "\n",
    "Elde ettigimiz turevi (W_turev) kullanarak, yapay sinir aginin parametrelerini (W) ufak adimlarla guncellebiliriz."
   ]
  },
  {
   "cell_type": "code",
   "execution_count": 13,
   "metadata": {},
   "outputs": [
    {
     "name": "stdout",
     "output_type": "stream",
     "text": [
      "tensor([[-1.2908, -0.1516,  0.9250, -0.5209],\n",
      "        [-0.2851, -2.4621, -1.2765, -0.4504]], grad_fn=<SubBackward0>)\n"
     ]
    }
   ],
   "source": [
    "ogrenme_orani = 0.000001\n",
    "W = W - ogrenme_orani * W_turev\n",
    "print(W)"
   ]
  },
  {
   "cell_type": "markdown",
   "metadata": {},
   "source": [
    "#### Yapay sinir agi modullerini (fonksiyonlarini) kullanmak\n",
    "\n",
    "Biraz onceki ornekte kendimiz basit bir sinir agi yapi tasini (sinir_agi) kendimiz kurduk. Pratikte daha karmasik sinir aglarini elde etmek icin onceden tasarlanmis ve denenmis yapi tasi fonksiyonlari kullaniriz. Bunlar PyTorch sisteminde torch.nn modulunde bulunurlar. Kendi iclerinde yukaridaki ornekte gosterdigimiz gibi calisirlar.\n",
    "\n",
    "Simdi bir konvolusyon sinir agi yaparak, bir resim tanima isi icin onu egitecegiz. Burada kullanacagimiz veri, MNIST denen, el yazisiyla yazilmis rakamlarin taranip bilgisayara aktarilmasiyla elde edilmis, 60.000 veri ornegi iceren bir veri tabanidir. Bu veritabaninda her bir resim icin verilen dogru rakam verisi vardir. Ornegin el yazisiyla yazilmis bir \"3\" rakamini dusunun, ve bunun \"3\" olmasi gerektigini soyleyen bir etiket. Bu resim--etiket ciftlerini kullanarak yapay sinir sistemini egitebiliriz ve ona verilen yeni bir rakam resminin hangi rakam oldugunu tahmin etmesini saglayabiliriz.\n",
    "\n",
    "Once MNIST verisini yukleyerek basliyoruz. Bundan sonra bu veriyi normalize edecegiz (resimlerin piksel degerlerini belli bir araliga getirecegiz)."
   ]
  },
  {
   "cell_type": "code",
   "execution_count": 15,
   "metadata": {},
   "outputs": [
    {
     "name": "stdout",
     "output_type": "stream",
     "text": [
      "Downloading http://yann.lecun.com/exdb/mnist/train-images-idx3-ubyte.gz to ./data/MNIST/raw/train-images-idx3-ubyte.gz\n"
     ]
    },
    {
     "data": {
      "application/vnd.jupyter.widget-view+json": {
       "model_id": "b09ca2f0429846a7b2876bdf76a624cb",
       "version_major": 2,
       "version_minor": 0
      },
      "text/plain": [
       "HBox(children=(FloatProgress(value=1.0, bar_style='info', max=1.0), HTML(value='')))"
      ]
     },
     "metadata": {},
     "output_type": "display_data"
    },
    {
     "name": "stdout",
     "output_type": "stream",
     "text": [
      "Extracting ./data/MNIST/raw/train-images-idx3-ubyte.gz to ./data/MNIST/raw\n",
      "Downloading http://yann.lecun.com/exdb/mnist/train-labels-idx1-ubyte.gz to ./data/MNIST/raw/train-labels-idx1-ubyte.gz\n"
     ]
    },
    {
     "data": {
      "application/vnd.jupyter.widget-view+json": {
       "model_id": "01d835fd88fd415db6903b8b591b4cc3",
       "version_major": 2,
       "version_minor": 0
      },
      "text/plain": [
       "HBox(children=(FloatProgress(value=1.0, bar_style='info', max=1.0), HTML(value='')))"
      ]
     },
     "metadata": {},
     "output_type": "display_data"
    },
    {
     "name": "stdout",
     "output_type": "stream",
     "text": [
      "Extracting ./data/MNIST/raw/train-labels-idx1-ubyte.gz to ./data/MNIST/raw\n",
      "Downloading http://yann.lecun.com/exdb/mnist/t10k-images-idx3-ubyte.gz to ./data/MNIST/raw/t10k-images-idx3-ubyte.gz\n"
     ]
    },
    {
     "data": {
      "application/vnd.jupyter.widget-view+json": {
       "model_id": "99e2f0f5abb04052ae592f8cad5cd638",
       "version_major": 2,
       "version_minor": 0
      },
      "text/plain": [
       "HBox(children=(FloatProgress(value=1.0, bar_style='info', max=1.0), HTML(value='')))"
      ]
     },
     "metadata": {},
     "output_type": "display_data"
    },
    {
     "name": "stdout",
     "output_type": "stream",
     "text": [
      "Extracting ./data/MNIST/raw/t10k-images-idx3-ubyte.gz to ./data/MNIST/raw\n",
      "Downloading http://yann.lecun.com/exdb/mnist/t10k-labels-idx1-ubyte.gz to ./data/MNIST/raw/t10k-labels-idx1-ubyte.gz\n"
     ]
    },
    {
     "data": {
      "application/vnd.jupyter.widget-view+json": {
       "model_id": "ce5cd45bae9d4416898466e954fdf208",
       "version_major": 2,
       "version_minor": 0
      },
      "text/plain": [
       "HBox(children=(FloatProgress(value=1.0, bar_style='info', max=1.0), HTML(value='')))"
      ]
     },
     "metadata": {},
     "output_type": "display_data"
    },
    {
     "name": "stdout",
     "output_type": "stream",
     "text": [
      "Extracting ./data/MNIST/raw/t10k-labels-idx1-ubyte.gz to ./data/MNIST/raw\n",
      "Processing...\n",
      "Done!\n"
     ]
    },
    {
     "name": "stderr",
     "output_type": "stream",
     "text": [
      "/pytorch/torch/csrc/utils/tensor_numpy.cpp:141: UserWarning: The given NumPy array is not writeable, and PyTorch does not support non-writeable tensors. This means you can write to the underlying (supposedly non-writeable) NumPy array using the tensor. You may want to copy the array to protect its data or make it writeable before converting it to a tensor. This type of warning will be suppressed for the rest of this program.\n"
     ]
    }
   ],
   "source": [
    "from torchvision import datasets, transforms\n",
    "from torch.utils.data import DataLoader\n",
    "\n",
    "train_loader = DataLoader(\n",
    "    datasets.MNIST('./data', train=True, download=True,\n",
    "                   transform=transforms.Compose([\n",
    "                       transforms.ToTensor(),\n",
    "                       transforms.Normalize((0.1307,), (0.3081,))\n",
    "                   ])),\n",
    "    batch_size=64, shuffle=True)\n",
    "test_loader = DataLoader(\n",
    "    datasets.MNIST('./data', train=False, transform=transforms.Compose([\n",
    "                       transforms.ToTensor(),\n",
    "                       transforms.Normalize((0.1307,), (0.3081,))\n",
    "                   ])),\n",
    "    batch_size=64, shuffle=True)"
   ]
  },
  {
   "cell_type": "markdown",
   "metadata": {},
   "source": [
    "Simdi rakam resimlerini gorsel olarak gormemizi saglayacak ufak bir fonksiyon yazalim."
   ]
  },
  {
   "cell_type": "code",
   "execution_count": 16,
   "metadata": {},
   "outputs": [],
   "source": [
    "import matplotlib.pyplot as plt\n",
    "import numpy as np\n",
    "%matplotlib inline\n",
    "\n",
    "def imshow(img):\n",
    "    npimg = img.numpy().astype(float)\n",
    "    plt.imshow(npimg)"
   ]
  },
  {
   "cell_type": "markdown",
   "metadata": {},
   "source": [
    "Simdi bu fonksiyonu kullanarak MNIST veri setinden birkac resim ve bunlarin hangi rakam olduguna dair verilere bakalim."
   ]
  },
  {
   "cell_type": "code",
   "execution_count": 18,
   "metadata": {},
   "outputs": [
    {
     "name": "stdout",
     "output_type": "stream",
     "text": [
      "Ground truth label:  tensor(2)\n"
     ]
    },
    {
     "data": {
      "image/png": "[encoded data removed]",
      "text/plain": [
       "<Figure size 432x288 with 1 Axes>"
      ]
     },
     "metadata": {
      "needs_background": "light"
     },
     "output_type": "display_data"
    }
   ],
   "source": [
    "index = 10300\n",
    "imshow(train_loader.dataset.train_data[index])\n",
    "print('Ground truth label: ', train_loader.dataset.train_labels[index])"
   ]
  },
  {
   "cell_type": "code",
   "execution_count": 19,
   "metadata": {},
   "outputs": [
    {
     "name": "stdout",
     "output_type": "stream",
     "text": [
      "Ground truth label:  tensor(4)\n"
     ]
    },
    {
     "data": {
      "image/png": "[encoded data removed]",
      "text/plain": [
       "<Figure size 432x288 with 1 Axes>"
      ]
     },
     "metadata": {
      "needs_background": "light"
     },
     "output_type": "display_data"
    }
   ],
   "source": [
    "index = 150\n",
    "imshow(train_loader.dataset.train_data[index])\n",
    "print('Ground truth label: ', train_loader.dataset.train_labels[index])"
   ]
  },
  {
   "cell_type": "markdown",
   "metadata": {},
   "source": [
    "Simdi iki adet konvolusyonel ve iki adet lineer katmandan olusan bir yapay sinir agi kuralim.\n",
    "\n",
    "PyTorch ve otomatik turev alma sistemi sayesinde bizim bu sinir agini kurup ogretmemiz icin gereken tek sey sinir aginin temel calismasini tanimlamak. Biz bu sinir agini egitirken onun yapmasini istedigimiz ise dair (rakam resimlerini tanimak) bir objektif fonksiyonunun turevi hesaplanacak. Ancak bu turevi biz hesaplamayacagiz, sistem otomatik olarak hesaplayacak.\n",
    "\n",
    "PyTorch sisteminde iki tane ana bolum tanimlamamiz gerekiyor.\n",
    "\n",
    "* sinir aginin icindeki bolumler (yapi taslari)\n",
    "* sinir agi calistiginda bu yapi taslarinin veriyi hangi sirayla isleyip kendi aralarinda birbirlerine aktaracagini gosteren algoritma"
   ]
  },
  {
   "cell_type": "code",
   "execution_count": 21,
   "metadata": {},
   "outputs": [],
   "source": [
    "import torch.nn as nn\n",
    "\n",
    "class SinirAgi(nn.Module):\n",
    "    def __init__(self): # Sinir aginin yapitasi olan daha kucuk sinir aglari\n",
    "        super().__init__()\n",
    "        self.conv1 = nn.Conv2d(1, 10, kernel_size=5)\n",
    "        self.conv2 = nn.Conv2d(10, 20, kernel_size=5)\n",
    "        self.conv2_drop = nn.Dropout2d()\n",
    "        self.fc1 = nn.Linear(320, 50)\n",
    "        self.fc2 = nn.Linear(50, 10)\n",
    "\n",
    "    def forward(self, x): # Sinir aginin calismasini saglayan algoritma\n",
    "        x = F.relu(F.max_pool2d(self.conv1(x), 2))\n",
    "        x = F.relu(F.max_pool2d(self.conv2_drop(self.conv2(x)), 2))\n",
    "        x = x.view(-1, 320)\n",
    "        x = F.relu(self.fc1(x))\n",
    "        x = F.dropout(x, training=self.training)\n",
    "        x = self.fc2(x)\n",
    "        return F.log_softmax(x)\n",
    "    \n",
    "model = SinirAgi()"
   ]
  },
  {
   "cell_type": "markdown",
   "metadata": {},
   "source": [
    "Simdi bu sinir agina bu isi SGD optimizasyonu ile ogretecegiz. Burada kullandigimiz optimizasyon algoritmasi da PyTorch tarafindan hazir bir fonksiyon olarak saglanmaktadir."
   ]
  },
  {
   "cell_type": "code",
   "execution_count": 22,
   "metadata": {},
   "outputs": [],
   "source": [
    "from torch import optim\n",
    "\n",
    "optimizer = optim.SGD(model.parameters(), lr=0.0001, momentum=0.9)"
   ]
  },
  {
   "cell_type": "code",
   "execution_count": 31,
   "metadata": {},
   "outputs": [],
   "source": [
    "import torch.nn.functional as F\n",
    "\n",
    "def train(epoch):\n",
    "    model.train()\n",
    "    for batch_idx, (data, target) in enumerate(train_loader):\n",
    "        optimizer.zero_grad()\n",
    "        output = model(data)\n",
    "        loss = F.nll_loss(output, target)\n",
    "        loss.backward()\n",
    "        optimizer.step()\n",
    "        if batch_idx % 100 == 0:\n",
    "            print('Ogretme Asamasi: {} [{}/{} ({:.0f}%)]\\tObjektif: {:.6f}'.format(\n",
    "                epoch, batch_idx * len(data), len(train_loader.dataset),\n",
    "                100. * batch_idx / len(train_loader), float(loss)))\n",
    "            \n",
    "def test():\n",
    "    model.eval()\n",
    "    test_loss = 0\n",
    "    correct = 0\n",
    "    for data, target in test_loader:\n",
    "        output = model(data)\n",
    "        test_loss += float(F.nll_loss(output, target, size_average=False)) # sum up batch loss\n",
    "        pred = output.data.max(1, keepdim=True)[1] # get the index of the max log-probability\n",
    "        correct += pred.eq(target.data.view_as(pred)).cpu().sum()\n",
    "\n",
    "    test_loss /= len(test_loader.dataset)\n",
    "    print('\\nTest asamasi: Ortalama objektif: {:.4f}, Basari orani: {}/{} ({:.0f}%)\\n'.format(\n",
    "        test_loss, correct, len(test_loader.dataset),\n",
    "        100. * correct / len(test_loader.dataset)))"
   ]
  },
  {
   "cell_type": "markdown",
   "metadata": {},
   "source": [
    "Simdi bu sinir agina dort asamada ogretecegiz. Her asamada butun veri setindeki 60.000 resimi tek tek gorecek, her biri icin en iyi tahminini yapacak, yaptigi tahmin gercek degere ne kadar yakin veya uzak diye bakarak bir objektif fonksiyonu hesaplanacak, sonra bu objektif fonksiyonunun turevini kullanarak tahminin daha iyi olacagi bicimde (objektif fonksiyonu daha dusuk olacak bicimde) sinir sisteminin parametrelerini ufak ufak degistirecegiz.\n",
    "\n",
    "Her asama sonunda, elimizdeki resimlere benzer, ama ogrenme sirasinda kullanilmayan bir test veri setiyle, sinir aginin ogrenmekte oldugu isi ne kadar iyi basardigini test edecegiz. Bu test setinde de 10.000 adet veri bulunuyor."
   ]
  },
  {
   "cell_type": "code",
   "execution_count": 32,
   "metadata": {},
   "outputs": [
    {
     "name": "stderr",
     "output_type": "stream",
     "text": [
      "/home/gunes/anaconda3/lib/python3.7/site-packages/ipykernel_launcher.py:19: UserWarning: Implicit dimension choice for log_softmax has been deprecated. Change the call to include dim=X as an argument.\n"
     ]
    },
    {
     "name": "stdout",
     "output_type": "stream",
     "text": [
      "Ogretme Asamasi: 1 [0/60000 (0%)]\tObjektif: 2.031797\n",
      "Ogretme Asamasi: 1 [6400/60000 (11%)]\tObjektif: 2.008724\n",
      "Ogretme Asamasi: 1 [12800/60000 (21%)]\tObjektif: 1.869110\n",
      "Ogretme Asamasi: 1 [19200/60000 (32%)]\tObjektif: 1.910758\n",
      "Ogretme Asamasi: 1 [25600/60000 (43%)]\tObjektif: 1.930431\n",
      "Ogretme Asamasi: 1 [32000/60000 (53%)]\tObjektif: 1.781711\n",
      "Ogretme Asamasi: 1 [38400/60000 (64%)]\tObjektif: 1.765526\n",
      "Ogretme Asamasi: 1 [44800/60000 (75%)]\tObjektif: 1.713352\n",
      "Ogretme Asamasi: 1 [51200/60000 (85%)]\tObjektif: 1.776275\n",
      "Ogretme Asamasi: 1 [57600/60000 (96%)]\tObjektif: 1.642098\n",
      "\n",
      "Test asamasi: Ortalama objektif: 1.3059, Basari orani: 7289/10000 (73%)\n",
      "\n",
      "Ogretme Asamasi: 2 [0/60000 (0%)]\tObjektif: 1.653114\n",
      "Ogretme Asamasi: 2 [6400/60000 (11%)]\tObjektif: 1.538506\n",
      "Ogretme Asamasi: 2 [12800/60000 (21%)]\tObjektif: 1.439174\n",
      "Ogretme Asamasi: 2 [19200/60000 (32%)]\tObjektif: 1.592048\n",
      "Ogretme Asamasi: 2 [25600/60000 (43%)]\tObjektif: 1.563018\n",
      "Ogretme Asamasi: 2 [32000/60000 (53%)]\tObjektif: 1.412902\n",
      "Ogretme Asamasi: 2 [38400/60000 (64%)]\tObjektif: 1.552081\n",
      "Ogretme Asamasi: 2 [44800/60000 (75%)]\tObjektif: 1.099415\n",
      "Ogretme Asamasi: 2 [51200/60000 (85%)]\tObjektif: 1.162075\n",
      "Ogretme Asamasi: 2 [57600/60000 (96%)]\tObjektif: 1.364995\n",
      "\n",
      "Test asamasi: Ortalama objektif: 0.8127, Basari orani: 8154/10000 (82%)\n",
      "\n",
      "Ogretme Asamasi: 3 [0/60000 (0%)]\tObjektif: 1.076527\n",
      "Ogretme Asamasi: 3 [6400/60000 (11%)]\tObjektif: 1.181358\n",
      "Ogretme Asamasi: 3 [12800/60000 (21%)]\tObjektif: 1.039648\n",
      "Ogretme Asamasi: 3 [19200/60000 (32%)]\tObjektif: 1.174414\n",
      "Ogretme Asamasi: 3 [25600/60000 (43%)]\tObjektif: 1.213614\n",
      "Ogretme Asamasi: 3 [32000/60000 (53%)]\tObjektif: 0.919322\n",
      "Ogretme Asamasi: 3 [38400/60000 (64%)]\tObjektif: 0.868100\n",
      "Ogretme Asamasi: 3 [44800/60000 (75%)]\tObjektif: 1.035795\n",
      "Ogretme Asamasi: 3 [51200/60000 (85%)]\tObjektif: 0.752420\n",
      "Ogretme Asamasi: 3 [57600/60000 (96%)]\tObjektif: 1.027571\n",
      "\n",
      "Test asamasi: Ortalama objektif: 0.5695, Basari orani: 8586/10000 (86%)\n",
      "\n",
      "Ogretme Asamasi: 4 [0/60000 (0%)]\tObjektif: 1.218063\n",
      "Ogretme Asamasi: 4 [6400/60000 (11%)]\tObjektif: 0.887910\n",
      "Ogretme Asamasi: 4 [12800/60000 (21%)]\tObjektif: 0.958963\n",
      "Ogretme Asamasi: 4 [19200/60000 (32%)]\tObjektif: 1.125167\n",
      "Ogretme Asamasi: 4 [25600/60000 (43%)]\tObjektif: 0.927178\n",
      "Ogretme Asamasi: 4 [32000/60000 (53%)]\tObjektif: 0.762101\n",
      "Ogretme Asamasi: 4 [38400/60000 (64%)]\tObjektif: 0.958648\n",
      "Ogretme Asamasi: 4 [44800/60000 (75%)]\tObjektif: 0.908577\n",
      "Ogretme Asamasi: 4 [51200/60000 (85%)]\tObjektif: 0.714413\n",
      "Ogretme Asamasi: 4 [57600/60000 (96%)]\tObjektif: 0.943599\n",
      "\n",
      "Test asamasi: Ortalama objektif: 0.4539, Basari orani: 8823/10000 (88%)\n",
      "\n"
     ]
    }
   ],
   "source": [
    "for epoch in range(1, 5):\n",
    "    train(epoch)\n",
    "    test()"
   ]
  },
  {
   "cell_type": "markdown",
   "metadata": {},
   "source": [
    "Simdi bu islemleri yaptiktan sonra sinir agimiz resimleri tanima isini ne kadar iyi yapiyor gormek icin birkac test resmini sinir agina gosterip resimdeki rakamin ne oldugunu tahmin etmesini isteyelim."
   ]
  },
  {
   "cell_type": "code",
   "execution_count": 62,
   "metadata": {},
   "outputs": [
    {
     "name": "stderr",
     "output_type": "stream",
     "text": [
      "/home/gunes/anaconda3/lib/python3.7/site-packages/ipykernel_launcher.py:19: UserWarning: Implicit dimension choice for log_softmax has been deprecated. Change the call to include dim=X as an argument.\n"
     ]
    },
    {
     "data": {
      "image/png": "[encoded data removed]",
      "text/plain": [
       "<Figure size 432x288 with 1 Axes>"
      ]
     },
     "metadata": {
      "needs_background": "light"
     },
     "output_type": "display_data"
    },
    {
     "data": {
      "image/png": "[encoded data removed]",
      "text/plain": [
       "<Figure size 432x288 with 1 Axes>"
      ]
     },
     "metadata": {
      "needs_background": "light"
     },
     "output_type": "display_data"
    },
    {
     "name": "stdout",
     "output_type": "stream",
     "text": [
      "tensor([1.2316e-03, 6.6649e-04, 2.8913e-04, 1.4792e-02, 2.7952e-01, 3.8204e-02,\n",
      "        2.6043e-03, 2.4476e-02, 9.8147e-03, 6.2841e-01],\n",
      "       grad_fn=<SoftmaxBackward>)\n"
     ]
    }
   ],
   "source": [
    "import itertools\n",
    "index = 12\n",
    "a = list(itertools.islice(test_loader, index))\n",
    "test_image = a[0][0][0]\n",
    "test_label = a[0][1][0]\n",
    "\n",
    "test_output = model(test_image.unsqueeze(0))\n",
    "values, indices = torch.max(test_output, 0)\n",
    "\n",
    "imshow(test_image[0])\n",
    "fig, ax = plt.subplots()\n",
    "ax.bar(range(10),F.softmax(values, dim=0).detach().numpy())\n",
    "ax.set_xticks(np.arange(10))\n",
    "plt.show()\n",
    "print(F.softmax(values,dim=0))"
   ]
  },
  {
   "cell_type": "markdown",
   "metadata": {},
   "source": [
    "# Daha fazla bilgi icin"
   ]
  },
  {
   "cell_type": "code",
   "execution_count": null,
   "metadata": {},
   "outputs": [],
   "source": []
  }
 ],
 "metadata": {
  "kernelspec": {
   "display_name": "Python 3",
   "language": "python",
   "name": "python3"
  },
  "language_info": {
   "codemirror_mode": {
    "name": "ipython",
    "version": 3
   },
   "file_extension": ".py",
   "mimetype": "text/x-python",
   "name": "python",
   "nbconvert_exporter": "python",
   "pygments_lexer": "ipython3",
   "version": "3.7.6"
  }
 },
 "nbformat": 4,
 "nbformat_minor": 4
}
